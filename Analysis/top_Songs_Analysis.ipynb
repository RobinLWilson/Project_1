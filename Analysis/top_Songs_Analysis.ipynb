{
 "cells": [
  {
   "cell_type": "markdown",
   "id": "2c6d17bd",
   "metadata": {},
   "source": [
    "# Import Dependencies "
   ]
  },
  {
   "cell_type": "code",
   "execution_count": 1,
   "id": "d832b076",
   "metadata": {},
   "outputs": [],
   "source": [
    "from scipy.stats import linregress\n",
    "import matplotlib.pyplot as plt\n",
    "from scipy import stats\n",
    "import pandas as pd\n",
    "import numpy as np\n",
    "import requests\n",
    "import time\n",
    "import json"
   ]
  },
  {
   "cell_type": "markdown",
   "id": "57d19464",
   "metadata": {},
   "source": [
    "## Load the Data"
   ]
  },
  {
   "cell_type": "code",
   "execution_count": 2,
   "id": "cc477f1d",
   "metadata": {},
   "outputs": [
    {
     "name": "stdout",
     "output_type": "stream",
     "text": [
      "817\n"
     ]
    },
    {
     "data": {
      "text/html": [
       "<div>\n",
       "<style scoped>\n",
       "    .dataframe tbody tr th:only-of-type {\n",
       "        vertical-align: middle;\n",
       "    }\n",
       "\n",
       "    .dataframe tbody tr th {\n",
       "        vertical-align: top;\n",
       "    }\n",
       "\n",
       "    .dataframe thead th {\n",
       "        text-align: right;\n",
       "    }\n",
       "</style>\n",
       "<table border=\"1\" class=\"dataframe\">\n",
       "  <thead>\n",
       "    <tr style=\"text-align: right;\">\n",
       "      <th></th>\n",
       "      <th>track_name</th>\n",
       "      <th>artist(s)_name</th>\n",
       "      <th>artist_count</th>\n",
       "      <th>released_year</th>\n",
       "      <th>released_month</th>\n",
       "      <th>released_day</th>\n",
       "      <th>in_spotify_playlists</th>\n",
       "      <th>in_spotify_charts</th>\n",
       "      <th>streams</th>\n",
       "      <th>in_apple_playlists</th>\n",
       "      <th>...</th>\n",
       "      <th>mode</th>\n",
       "      <th>danceability_%</th>\n",
       "      <th>valence_%</th>\n",
       "      <th>energy_%</th>\n",
       "      <th>acousticness_%</th>\n",
       "      <th>instrumentalness_%</th>\n",
       "      <th>liveness_%</th>\n",
       "      <th>speechiness_%</th>\n",
       "      <th>Deezer Album ID</th>\n",
       "      <th>Deezer Genre</th>\n",
       "    </tr>\n",
       "  </thead>\n",
       "  <tbody>\n",
       "    <tr>\n",
       "      <th>0</th>\n",
       "      <td>Seven (feat. Latto) (Explicit Ver.)</td>\n",
       "      <td>Latto, Jung Kook</td>\n",
       "      <td>2</td>\n",
       "      <td>2023</td>\n",
       "      <td>7</td>\n",
       "      <td>14</td>\n",
       "      <td>553</td>\n",
       "      <td>147</td>\n",
       "      <td>141381703</td>\n",
       "      <td>43</td>\n",
       "      <td>...</td>\n",
       "      <td>Major</td>\n",
       "      <td>80</td>\n",
       "      <td>89</td>\n",
       "      <td>83</td>\n",
       "      <td>31</td>\n",
       "      <td>0</td>\n",
       "      <td>8</td>\n",
       "      <td>4</td>\n",
       "      <td>463574485</td>\n",
       "      <td>Asian Music</td>\n",
       "    </tr>\n",
       "    <tr>\n",
       "      <th>1</th>\n",
       "      <td>LALA</td>\n",
       "      <td>Myke Towers</td>\n",
       "      <td>1</td>\n",
       "      <td>2023</td>\n",
       "      <td>3</td>\n",
       "      <td>23</td>\n",
       "      <td>1474</td>\n",
       "      <td>48</td>\n",
       "      <td>133716286</td>\n",
       "      <td>48</td>\n",
       "      <td>...</td>\n",
       "      <td>Major</td>\n",
       "      <td>71</td>\n",
       "      <td>61</td>\n",
       "      <td>74</td>\n",
       "      <td>7</td>\n",
       "      <td>0</td>\n",
       "      <td>10</td>\n",
       "      <td>4</td>\n",
       "      <td>410083687</td>\n",
       "      <td>Rap/Hip Hop</td>\n",
       "    </tr>\n",
       "    <tr>\n",
       "      <th>2</th>\n",
       "      <td>vampire</td>\n",
       "      <td>Olivia Rodrigo</td>\n",
       "      <td>1</td>\n",
       "      <td>2023</td>\n",
       "      <td>6</td>\n",
       "      <td>30</td>\n",
       "      <td>1397</td>\n",
       "      <td>113</td>\n",
       "      <td>140003974</td>\n",
       "      <td>94</td>\n",
       "      <td>...</td>\n",
       "      <td>Major</td>\n",
       "      <td>51</td>\n",
       "      <td>32</td>\n",
       "      <td>53</td>\n",
       "      <td>17</td>\n",
       "      <td>0</td>\n",
       "      <td>31</td>\n",
       "      <td>6</td>\n",
       "      <td>484372295</td>\n",
       "      <td>Pop</td>\n",
       "    </tr>\n",
       "    <tr>\n",
       "      <th>3</th>\n",
       "      <td>Cruel Summer</td>\n",
       "      <td>Taylor Swift</td>\n",
       "      <td>1</td>\n",
       "      <td>2019</td>\n",
       "      <td>8</td>\n",
       "      <td>23</td>\n",
       "      <td>7858</td>\n",
       "      <td>100</td>\n",
       "      <td>800840817</td>\n",
       "      <td>116</td>\n",
       "      <td>...</td>\n",
       "      <td>Major</td>\n",
       "      <td>55</td>\n",
       "      <td>58</td>\n",
       "      <td>72</td>\n",
       "      <td>11</td>\n",
       "      <td>0</td>\n",
       "      <td>11</td>\n",
       "      <td>15</td>\n",
       "      <td>108447472</td>\n",
       "      <td>Pop</td>\n",
       "    </tr>\n",
       "    <tr>\n",
       "      <th>4</th>\n",
       "      <td>WHERE SHE GOES</td>\n",
       "      <td>Bad Bunny</td>\n",
       "      <td>1</td>\n",
       "      <td>2023</td>\n",
       "      <td>5</td>\n",
       "      <td>18</td>\n",
       "      <td>3133</td>\n",
       "      <td>50</td>\n",
       "      <td>303236322</td>\n",
       "      <td>84</td>\n",
       "      <td>...</td>\n",
       "      <td>Minor</td>\n",
       "      <td>65</td>\n",
       "      <td>23</td>\n",
       "      <td>80</td>\n",
       "      <td>14</td>\n",
       "      <td>63</td>\n",
       "      <td>11</td>\n",
       "      <td>6</td>\n",
       "      <td>442984025</td>\n",
       "      <td>Latin Music</td>\n",
       "    </tr>\n",
       "  </tbody>\n",
       "</table>\n",
       "<p>5 rows × 26 columns</p>\n",
       "</div>"
      ],
      "text/plain": [
       "                            track_name    artist(s)_name  artist_count  \\\n",
       "0  Seven (feat. Latto) (Explicit Ver.)  Latto, Jung Kook             2   \n",
       "1                                 LALA       Myke Towers             1   \n",
       "2                              vampire    Olivia Rodrigo             1   \n",
       "3                         Cruel Summer      Taylor Swift             1   \n",
       "4                       WHERE SHE GOES         Bad Bunny             1   \n",
       "\n",
       "   released_year  released_month  released_day  in_spotify_playlists  \\\n",
       "0           2023               7            14                   553   \n",
       "1           2023               3            23                  1474   \n",
       "2           2023               6            30                  1397   \n",
       "3           2019               8            23                  7858   \n",
       "4           2023               5            18                  3133   \n",
       "\n",
       "   in_spotify_charts    streams  in_apple_playlists  ...   mode  \\\n",
       "0                147  141381703                  43  ...  Major   \n",
       "1                 48  133716286                  48  ...  Major   \n",
       "2                113  140003974                  94  ...  Major   \n",
       "3                100  800840817                 116  ...  Major   \n",
       "4                 50  303236322                  84  ...  Minor   \n",
       "\n",
       "  danceability_%  valence_% energy_%  acousticness_% instrumentalness_%  \\\n",
       "0             80         89       83              31                  0   \n",
       "1             71         61       74               7                  0   \n",
       "2             51         32       53              17                  0   \n",
       "3             55         58       72              11                  0   \n",
       "4             65         23       80              14                 63   \n",
       "\n",
       "  liveness_%  speechiness_%  Deezer Album ID  Deezer Genre  \n",
       "0          8              4        463574485   Asian Music  \n",
       "1         10              4        410083687   Rap/Hip Hop  \n",
       "2         31              6        484372295           Pop  \n",
       "3         11             15        108447472           Pop  \n",
       "4         11              6        442984025   Latin Music  \n",
       "\n",
       "[5 rows x 26 columns]"
      ]
     },
     "execution_count": 2,
     "metadata": {},
     "output_type": "execute_result"
    }
   ],
   "source": [
    "# read the saved data:\n",
    "music_df = pd.read_csv(\"../Output_Data/all_data_genre.csv\", encoding = \"Latin-1\")\n",
    "print(len(music_df))\n",
    "music_df.head()"
   ]
  },
  {
   "cell_type": "markdown",
   "id": "7a6507f3",
   "metadata": {},
   "source": [
    "## Remove Duplicated Rows and Unwanted Columns"
   ]
  },
  {
   "cell_type": "code",
   "execution_count": 3,
   "id": "79159417",
   "metadata": {},
   "outputs": [
    {
     "data": {
      "text/plain": [
       "813"
      ]
     },
     "execution_count": 3,
     "metadata": {},
     "output_type": "execute_result"
    }
   ],
   "source": [
    "# Using Pandas remove duplicated Rows\n",
    "unduplicated_music_df = music_df.drop_duplicates(subset=[\"track_name\", \"artist(s)_name\",\n",
    "                                                         \"released_year\", \"released_month\", \n",
    "                                                         \"Deezer Album ID\"], keep=False,\\\n",
    "                                                         inplace=False)\n",
    "len(unduplicated_music_df)"
   ]
  },
  {
   "cell_type": "code",
   "execution_count": 4,
   "id": "0bbe96eb",
   "metadata": {},
   "outputs": [
    {
     "data": {
      "text/html": [
       "<div>\n",
       "<style scoped>\n",
       "    .dataframe tbody tr th:only-of-type {\n",
       "        vertical-align: middle;\n",
       "    }\n",
       "\n",
       "    .dataframe tbody tr th {\n",
       "        vertical-align: top;\n",
       "    }\n",
       "\n",
       "    .dataframe thead th {\n",
       "        text-align: right;\n",
       "    }\n",
       "</style>\n",
       "<table border=\"1\" class=\"dataframe\">\n",
       "  <thead>\n",
       "    <tr style=\"text-align: right;\">\n",
       "      <th></th>\n",
       "      <th>track_name</th>\n",
       "      <th>artist(s)_name</th>\n",
       "      <th>artist_count</th>\n",
       "      <th>released_year</th>\n",
       "      <th>released_month</th>\n",
       "      <th>in_spotify_playlists</th>\n",
       "      <th>streams</th>\n",
       "      <th>in_apple_playlists</th>\n",
       "      <th>in_deezer_playlists</th>\n",
       "      <th>bpm</th>\n",
       "      <th>key</th>\n",
       "      <th>Deezer Genre</th>\n",
       "    </tr>\n",
       "  </thead>\n",
       "  <tbody>\n",
       "    <tr>\n",
       "      <th>0</th>\n",
       "      <td>Seven (feat. Latto) (Explicit Ver.)</td>\n",
       "      <td>Latto, Jung Kook</td>\n",
       "      <td>2</td>\n",
       "      <td>2023</td>\n",
       "      <td>7</td>\n",
       "      <td>553</td>\n",
       "      <td>141381703</td>\n",
       "      <td>43</td>\n",
       "      <td>45</td>\n",
       "      <td>125</td>\n",
       "      <td>B</td>\n",
       "      <td>Asian Music</td>\n",
       "    </tr>\n",
       "  </tbody>\n",
       "</table>\n",
       "</div>"
      ],
      "text/plain": [
       "                            track_name    artist(s)_name  artist_count  \\\n",
       "0  Seven (feat. Latto) (Explicit Ver.)  Latto, Jung Kook             2   \n",
       "\n",
       "   released_year  released_month  in_spotify_playlists    streams  \\\n",
       "0           2023               7                   553  141381703   \n",
       "\n",
       "   in_apple_playlists in_deezer_playlists  bpm key Deezer Genre  \n",
       "0                  43                  45  125   B  Asian Music  "
      ]
     },
     "execution_count": 4,
     "metadata": {},
     "output_type": "execute_result"
    }
   ],
   "source": [
    "# Remove Unwanted Columns:\n",
    "final_music_df = unduplicated_music_df.drop(columns=[\"in_shazam_charts\", \"released_day\",\n",
    "                                                      \"mode\", \"danceability_%\", \"valence_%\",\n",
    "                                                      \"energy_%\", \"acousticness_%\",\n",
    "                                                      \"instrumentalness_%\", \"liveness_%\",\n",
    "                                                      \"speechiness_%\", \"Deezer Album ID\",\n",
    "                                                      \"in_spotify_charts\", \"in_apple_charts\",\n",
    "                                                      \"in_deezer_charts\"])\n",
    "# final_music_df.columns\n",
    "final_music_df.head(1)"
   ]
  },
  {
   "cell_type": "markdown",
   "id": "749bc0dd",
   "metadata": {},
   "source": [
    "### Rename Columns Then Remove Empty Cells"
   ]
  },
  {
   "cell_type": "code",
   "execution_count": 5,
   "id": "90ab157b",
   "metadata": {},
   "outputs": [
    {
     "name": "stdout",
     "output_type": "stream",
     "text": [
      "695\n"
     ]
    },
    {
     "data": {
      "text/html": [
       "<div>\n",
       "<style scoped>\n",
       "    .dataframe tbody tr th:only-of-type {\n",
       "        vertical-align: middle;\n",
       "    }\n",
       "\n",
       "    .dataframe tbody tr th {\n",
       "        vertical-align: top;\n",
       "    }\n",
       "\n",
       "    .dataframe thead th {\n",
       "        text-align: right;\n",
       "    }\n",
       "</style>\n",
       "<table border=\"1\" class=\"dataframe\">\n",
       "  <thead>\n",
       "    <tr style=\"text-align: right;\">\n",
       "      <th></th>\n",
       "      <th>Track Name</th>\n",
       "      <th>Artist(s) Name</th>\n",
       "      <th>Artist Count</th>\n",
       "      <th>Released Year</th>\n",
       "      <th>Released Month</th>\n",
       "      <th>In Spotify Playlists</th>\n",
       "      <th>Spotify Streams</th>\n",
       "      <th>In Apple Playlists</th>\n",
       "      <th>In Deezer Playlists</th>\n",
       "      <th>BPM</th>\n",
       "      <th>Key</th>\n",
       "      <th>Deezer Genre</th>\n",
       "    </tr>\n",
       "  </thead>\n",
       "  <tbody>\n",
       "    <tr>\n",
       "      <th>0</th>\n",
       "      <td>Seven (feat. Latto) (Explicit Ver.)</td>\n",
       "      <td>Latto, Jung Kook</td>\n",
       "      <td>2</td>\n",
       "      <td>2023</td>\n",
       "      <td>7</td>\n",
       "      <td>553</td>\n",
       "      <td>141381703</td>\n",
       "      <td>43</td>\n",
       "      <td>45</td>\n",
       "      <td>125</td>\n",
       "      <td>B</td>\n",
       "      <td>Asian Music</td>\n",
       "    </tr>\n",
       "    <tr>\n",
       "      <th>1</th>\n",
       "      <td>LALA</td>\n",
       "      <td>Myke Towers</td>\n",
       "      <td>1</td>\n",
       "      <td>2023</td>\n",
       "      <td>3</td>\n",
       "      <td>1474</td>\n",
       "      <td>133716286</td>\n",
       "      <td>48</td>\n",
       "      <td>58</td>\n",
       "      <td>92</td>\n",
       "      <td>C#</td>\n",
       "      <td>Rap/Hip Hop</td>\n",
       "    </tr>\n",
       "    <tr>\n",
       "      <th>2</th>\n",
       "      <td>vampire</td>\n",
       "      <td>Olivia Rodrigo</td>\n",
       "      <td>1</td>\n",
       "      <td>2023</td>\n",
       "      <td>6</td>\n",
       "      <td>1397</td>\n",
       "      <td>140003974</td>\n",
       "      <td>94</td>\n",
       "      <td>91</td>\n",
       "      <td>138</td>\n",
       "      <td>F</td>\n",
       "      <td>Pop</td>\n",
       "    </tr>\n",
       "  </tbody>\n",
       "</table>\n",
       "</div>"
      ],
      "text/plain": [
       "                            Track Name    Artist(s) Name  Artist Count  \\\n",
       "0  Seven (feat. Latto) (Explicit Ver.)  Latto, Jung Kook             2   \n",
       "1                                 LALA       Myke Towers             1   \n",
       "2                              vampire    Olivia Rodrigo             1   \n",
       "\n",
       "   Released Year  Released Month  In Spotify Playlists Spotify Streams  \\\n",
       "0           2023               7                   553       141381703   \n",
       "1           2023               3                  1474       133716286   \n",
       "2           2023               6                  1397       140003974   \n",
       "\n",
       "   In Apple Playlists In Deezer Playlists  BPM Key Deezer Genre  \n",
       "0                  43                  45  125   B  Asian Music  \n",
       "1                  48                  58   92  C#  Rap/Hip Hop  \n",
       "2                  94                  91  138   F          Pop  "
      ]
     },
     "execution_count": 5,
     "metadata": {},
     "output_type": "execute_result"
    }
   ],
   "source": [
    "# First, using pandas Rename the columns\n",
    "final_music_df = final_music_df.rename(columns={\"track_name\": \"Track Name\", \"artist(s)_name\": \"Artist(s) Name\",\n",
    "                                                \"artist_count\": \"Artist Count\",\n",
    "                                                \"released_year\": \"Released Year\", \"released_month\": \"Released Month\", \n",
    "                                                \"in_spotify_playlists\": \"In Spotify Playlists\",\n",
    "                                                \"streams\": \"Spotify Streams\",\n",
    "                                                \"in_apple_playlists\": \"In Apple Playlists\", \n",
    "                                                \"in_deezer_playlists\": \"In Deezer Playlists\",\n",
    "                                                \"bpm\": \"BPM\", \"key\": \"Key\"})\n",
    "\n",
    "# Now remove all empty cells - NOTE: most empty cells are in the \"Deezer Genre\" column\n",
    "cleaned_final_music_df = final_music_df.dropna()\n",
    "\n",
    "print(len(cleaned_final_music_df))\n",
    "cleaned_final_music_df.head(3)"
   ]
  },
  {
   "cell_type": "code",
   "execution_count": 6,
   "id": "3b4b36c7",
   "metadata": {},
   "outputs": [
    {
     "data": {
      "text/plain": [
       "694"
      ]
     },
     "execution_count": 6,
     "metadata": {},
     "output_type": "execute_result"
    }
   ],
   "source": [
    "# The Track Name \"\"Love Grows (Where My Rosemary Goes)\"\" has an error in the \n",
    "# \"Spotify Streams\" Column so will remove it using drop by index.\n",
    "\n",
    "# drop by index\n",
    "cleaned_final_music_df = cleaned_final_music_df.drop([478])\n",
    "len(cleaned_final_music_df)"
   ]
  },
  {
   "cell_type": "code",
   "execution_count": 7,
   "id": "b842c1a8",
   "metadata": {},
   "outputs": [
    {
     "name": "stdout",
     "output_type": "stream",
     "text": [
      "Spotify Streams        object\n",
      "In Deezer Playlists    object\n",
      "dtype: object\n",
      "-------------------------------------------\n",
      "Spotify Streams        int64\n",
      "In Deezer Playlists    int32\n",
      "dtype: object\n"
     ]
    }
   ],
   "source": [
    "print(cleaned_final_music_df[[\"Spotify Streams\", \"In Deezer Playlists\"]].dtypes)\n",
    "\n",
    "print(\"-------------------------------------------\")\n",
    "\n",
    "# Convert the values in the \"Spotify Streams\" AND \"In Deezer Playlists\" Columns to integer\n",
    "# First convert the Spotify Streams Column\n",
    "cleaned_final_music_df[\"Spotify Streams\"] = cleaned_final_music_df[\"Spotify Streams\"].astype(\"int64\")\n",
    "\n",
    "# For the \"Deezer Playlist\" column we have to remove the \",\" then convert the string to an interger.\n",
    "cleaned_final_music_df[\"In Deezer Playlists\"] = cleaned_final_music_df[\"In Deezer Playlists\"].str.replace(\",\", \"\")\n",
    "cleaned_final_music_df[\"In Deezer Playlists\"] = cleaned_final_music_df[\"In Deezer Playlists\"].astype(int) \n",
    "\n",
    "print(cleaned_final_music_df[[\"Spotify Streams\", \"In Deezer Playlists\"]].dtypes)"
   ]
  },
  {
   "cell_type": "code",
   "execution_count": 8,
   "id": "511005bf",
   "metadata": {},
   "outputs": [],
   "source": [
    "# export to csv:\n",
    "cleaned_final_music_df.to_csv(\"../Output_Data/cleaned_song_data.csv\", encoding = \"Latin-1\", index=False, header=True)"
   ]
  },
  {
   "cell_type": "markdown",
   "id": "1133019a",
   "metadata": {},
   "source": [
    "<h1><center>2023 Top Songs Released in 2023 - 2022 - and Prior</center></h1>"
   ]
  },
  {
   "cell_type": "code",
   "execution_count": 9,
   "id": "17aeaa4e",
   "metadata": {},
   "outputs": [],
   "source": [
    "# Define a function that will highlight the background of a specified column.\n",
    "def highlighting(inp_var, color='lightblue'):\n",
    "    return [f'background-color: {color}' for i in inp_var]"
   ]
  },
  {
   "cell_type": "markdown",
   "id": "9aa23a5b",
   "metadata": {},
   "source": [
    "## Top Songs Released in 2023: ____________________________________________________________________________"
   ]
  },
  {
   "cell_type": "code",
   "execution_count": 10,
   "id": "1376484a",
   "metadata": {},
   "outputs": [],
   "source": [
    "# Songs that were released in 2023:\n",
    "artists_23_df = cleaned_final_music_df[cleaned_final_music_df[\"Artist Count\"] == 1]\n",
    "songs_23_df = artists_23_df[artists_23_df[\"Released Year\"] == 2023] \n",
    "#                         and cleaned_final_music_df[cleaned_final_music_df[\"Artist Count\"] == 1]\n",
    "#--------------------------------------------------------------------------------------------------------------------------\n",
    "spotify_top_songs_all = []"
   ]
  },
  {
   "cell_type": "markdown",
   "id": "5e7c27c4",
   "metadata": {},
   "source": [
    "### `Top Songs in 2023 Spotify`"
   ]
  },
  {
   "cell_type": "code",
   "execution_count": 11,
   "id": "2e8493c1",
   "metadata": {},
   "outputs": [
    {
     "data": {
      "text/html": [
       "<style type=\"text/css\">\n",
       "#T_efc81_row0_col4, #T_efc81_row1_col4, #T_efc81_row2_col4 {\n",
       "  background-color: lightblue;\n",
       "}\n",
       "</style>\n",
       "<table id=\"T_efc81\">\n",
       "  <thead>\n",
       "    <tr>\n",
       "      <th class=\"blank level0\" >&nbsp;</th>\n",
       "      <th id=\"T_efc81_level0_col0\" class=\"col_heading level0 col0\" >Track Name</th>\n",
       "      <th id=\"T_efc81_level0_col1\" class=\"col_heading level0 col1\" >Artist(s) Name</th>\n",
       "      <th id=\"T_efc81_level0_col2\" class=\"col_heading level0 col2\" >Released Year</th>\n",
       "      <th id=\"T_efc81_level0_col3\" class=\"col_heading level0 col3\" >Released Month</th>\n",
       "      <th id=\"T_efc81_level0_col4\" class=\"col_heading level0 col4\" >Spotify Streams</th>\n",
       "      <th id=\"T_efc81_level0_col5\" class=\"col_heading level0 col5\" >BPM</th>\n",
       "      <th id=\"T_efc81_level0_col6\" class=\"col_heading level0 col6\" >Key</th>\n",
       "      <th id=\"T_efc81_level0_col7\" class=\"col_heading level0 col7\" >Deezer Genre</th>\n",
       "    </tr>\n",
       "  </thead>\n",
       "  <tbody>\n",
       "    <tr>\n",
       "      <th id=\"T_efc81_level0_row0\" class=\"row_heading level0 row0\" >14</th>\n",
       "      <td id=\"T_efc81_row0_col0\" class=\"data row0 col0\" >Cupid - Twin Ver.</td>\n",
       "      <td id=\"T_efc81_row0_col1\" class=\"data row0 col1\" >Fifty Fifty</td>\n",
       "      <td id=\"T_efc81_row0_col2\" class=\"data row0 col2\" >2023</td>\n",
       "      <td id=\"T_efc81_row0_col3\" class=\"data row0 col3\" >2</td>\n",
       "      <td id=\"T_efc81_row0_col4\" class=\"data row0 col4\" >496,795,686</td>\n",
       "      <td id=\"T_efc81_row0_col5\" class=\"data row0 col5\" >120</td>\n",
       "      <td id=\"T_efc81_row0_col6\" class=\"data row0 col6\" >B</td>\n",
       "      <td id=\"T_efc81_row0_col7\" class=\"data row0 col7\" >Asian Music</td>\n",
       "    </tr>\n",
       "    <tr>\n",
       "      <th id=\"T_efc81_level0_row1\" class=\"row_heading level0 row1\" >115</th>\n",
       "      <td id=\"T_efc81_row1_col0\" class=\"data row1 col0\" >OMG</td>\n",
       "      <td id=\"T_efc81_row1_col1\" class=\"data row1 col1\" >NewJeans</td>\n",
       "      <td id=\"T_efc81_row1_col2\" class=\"data row1 col2\" >2023</td>\n",
       "      <td id=\"T_efc81_row1_col3\" class=\"data row1 col3\" >1</td>\n",
       "      <td id=\"T_efc81_row1_col4\" class=\"data row1 col4\" >430,977,451</td>\n",
       "      <td id=\"T_efc81_row1_col5\" class=\"data row1 col5\" >127</td>\n",
       "      <td id=\"T_efc81_row1_col6\" class=\"data row1 col6\" >A</td>\n",
       "      <td id=\"T_efc81_row1_col7\" class=\"data row1 col7\" >Asian Music</td>\n",
       "    </tr>\n",
       "    <tr>\n",
       "      <th id=\"T_efc81_level0_row2\" class=\"row_heading level0 row2\" >24</th>\n",
       "      <td id=\"T_efc81_row2_col0\" class=\"data row2 col0\" >Last Night</td>\n",
       "      <td id=\"T_efc81_row2_col1\" class=\"data row2 col1\" >Morgan Wallen</td>\n",
       "      <td id=\"T_efc81_row2_col2\" class=\"data row2 col2\" >2023</td>\n",
       "      <td id=\"T_efc81_row2_col3\" class=\"data row2 col3\" >1</td>\n",
       "      <td id=\"T_efc81_row2_col4\" class=\"data row2 col4\" >429,829,812</td>\n",
       "      <td id=\"T_efc81_row2_col5\" class=\"data row2 col5\" >204</td>\n",
       "      <td id=\"T_efc81_row2_col6\" class=\"data row2 col6\" >F#</td>\n",
       "      <td id=\"T_efc81_row2_col7\" class=\"data row2 col7\" >Country</td>\n",
       "    </tr>\n",
       "  </tbody>\n",
       "</table>\n"
      ],
      "text/plain": [
       "<pandas.io.formats.style.Styler at 0x2a2aab20190>"
      ]
     },
     "execution_count": 11,
     "metadata": {},
     "output_type": "execute_result"
    }
   ],
   "source": [
    "# Top 3 songs in '23 based on Spotify streams\n",
    "\n",
    "# Sort the \"streams\" values in DESCENDING order.\n",
    "top_23_streams_df = songs_23_df.sort_values(by=\"Spotify Streams\", ascending=False) \n",
    "\n",
    "# Format the Streams Column for better readability.\n",
    "top_23_streams_df[\"Spotify Streams\"] = top_23_streams_df[\"Spotify Streams\"].map(\"{:,}\".format)\n",
    "\n",
    "# Display the Specified Columns and Apply the highlight format:\n",
    "top_23_streams_df = top_23_streams_df[[\"Track Name\", \"Artist(s) Name\", \"Released Year\", \\\n",
    "                  \"Released Month\", \"Spotify Streams\", \"BPM\", \"Key\", \"Deezer Genre\"]].\\\n",
    "                  head(3).style.apply(highlighting, axis=0, subset=[\"Spotify Streams\"])\n",
    "top_23_streams_df"
   ]
  },
  {
   "cell_type": "code",
   "execution_count": 12,
   "id": "accf9d05",
   "metadata": {},
   "outputs": [
    {
     "data": {
      "text/html": [
       "<style type=\"text/css\">\n",
       "#T_295f3_row0_col4, #T_295f3_row1_col4, #T_295f3_row2_col4 {\n",
       "  background-color: lightblue;\n",
       "}\n",
       "</style>\n",
       "<table id=\"T_295f3\">\n",
       "  <thead>\n",
       "    <tr>\n",
       "      <th class=\"blank level0\" >&nbsp;</th>\n",
       "      <th id=\"T_295f3_level0_col0\" class=\"col_heading level0 col0\" >Track Name</th>\n",
       "      <th id=\"T_295f3_level0_col1\" class=\"col_heading level0 col1\" >Artist(s) Name</th>\n",
       "      <th id=\"T_295f3_level0_col2\" class=\"col_heading level0 col2\" >Released Year</th>\n",
       "      <th id=\"T_295f3_level0_col3\" class=\"col_heading level0 col3\" >Released Month</th>\n",
       "      <th id=\"T_295f3_level0_col4\" class=\"col_heading level0 col4\" >In Spotify Playlists</th>\n",
       "      <th id=\"T_295f3_level0_col5\" class=\"col_heading level0 col5\" >BPM</th>\n",
       "      <th id=\"T_295f3_level0_col6\" class=\"col_heading level0 col6\" >Key</th>\n",
       "      <th id=\"T_295f3_level0_col7\" class=\"col_heading level0 col7\" >Deezer Genre</th>\n",
       "    </tr>\n",
       "  </thead>\n",
       "  <tbody>\n",
       "    <tr>\n",
       "      <th id=\"T_295f3_level0_row0\" class=\"row_heading level0 row0\" >12</th>\n",
       "      <td id=\"T_295f3_row0_col0\" class=\"data row0 col0\" >Daylight</td>\n",
       "      <td id=\"T_295f3_row0_col1\" class=\"data row0 col1\" >David Kushner</td>\n",
       "      <td id=\"T_295f3_row0_col2\" class=\"data row0 col2\" >2023</td>\n",
       "      <td id=\"T_295f3_row0_col3\" class=\"data row0 col3\" >4</td>\n",
       "      <td id=\"T_295f3_row0_col4\" class=\"data row0 col4\" >3,528</td>\n",
       "      <td id=\"T_295f3_row0_col5\" class=\"data row0 col5\" >130</td>\n",
       "      <td id=\"T_295f3_row0_col6\" class=\"data row0 col6\" >D</td>\n",
       "      <td id=\"T_295f3_row0_col7\" class=\"data row0 col7\" >Pop</td>\n",
       "    </tr>\n",
       "    <tr>\n",
       "      <th id=\"T_295f3_level0_row1\" class=\"row_heading level0 row1\" >4</th>\n",
       "      <td id=\"T_295f3_row1_col0\" class=\"data row1 col0\" >WHERE SHE GOES</td>\n",
       "      <td id=\"T_295f3_row1_col1\" class=\"data row1 col1\" >Bad Bunny</td>\n",
       "      <td id=\"T_295f3_row1_col2\" class=\"data row1 col2\" >2023</td>\n",
       "      <td id=\"T_295f3_row1_col3\" class=\"data row1 col3\" >5</td>\n",
       "      <td id=\"T_295f3_row1_col4\" class=\"data row1 col4\" >3,133</td>\n",
       "      <td id=\"T_295f3_row1_col5\" class=\"data row1 col5\" >144</td>\n",
       "      <td id=\"T_295f3_row1_col6\" class=\"data row1 col6\" >A</td>\n",
       "      <td id=\"T_295f3_row1_col7\" class=\"data row1 col7\" >Latin Music</td>\n",
       "    </tr>\n",
       "    <tr>\n",
       "      <th id=\"T_295f3_level0_row2\" class=\"row_heading level0 row2\" >25</th>\n",
       "      <td id=\"T_295f3_row2_col0\" class=\"data row2 col0\" >Dance The Night (From Barbie The Album)</td>\n",
       "      <td id=\"T_295f3_row2_col1\" class=\"data row2 col1\" >Dua Lipa</td>\n",
       "      <td id=\"T_295f3_row2_col2\" class=\"data row2 col2\" >2023</td>\n",
       "      <td id=\"T_295f3_row2_col3\" class=\"data row2 col3\" >5</td>\n",
       "      <td id=\"T_295f3_row2_col4\" class=\"data row2 col4\" >2,988</td>\n",
       "      <td id=\"T_295f3_row2_col5\" class=\"data row2 col5\" >110</td>\n",
       "      <td id=\"T_295f3_row2_col6\" class=\"data row2 col6\" >B</td>\n",
       "      <td id=\"T_295f3_row2_col7\" class=\"data row2 col7\" >Pop</td>\n",
       "    </tr>\n",
       "  </tbody>\n",
       "</table>\n"
      ],
      "text/plain": [
       "<pandas.io.formats.style.Styler at 0x2a2aacd1310>"
      ]
     },
     "execution_count": 12,
     "metadata": {},
     "output_type": "execute_result"
    }
   ],
   "source": [
    "# Top songs in '23 based on Spotify playlists\n",
    "\n",
    "# sort the \"in_spotify_playlists\" in DESCENDING order.\n",
    "top_23_Spotify_playlists = songs_23_df.sort_values(by=\"In Spotify Playlists\", ascending=False) \n",
    "\n",
    "# Format the Column for better readability.\n",
    "top_23_Spotify_playlists[\"In Spotify Playlists\"] = top_23_Spotify_playlists[\"In Spotify Playlists\"]\\\n",
    "                                                                                    .map(\"{:,}\".format)\n",
    "\n",
    "top_23_Spotify_playlists[[\"Track Name\", \"Artist(s) Name\", \"Released Year\", \\\n",
    "                  \"Released Month\", \"In Spotify Playlists\", \"BPM\", \"Key\", \"Deezer Genre\"]].head(3)\\\n",
    "                  .style.apply(highlighting, axis=0, subset=[\"In Spotify Playlists\"])\n"
   ]
  },
  {
   "cell_type": "markdown",
   "id": "e9e73cb2",
   "metadata": {},
   "source": [
    "### `Top Songs in 2023 Apple`"
   ]
  },
  {
   "cell_type": "code",
   "execution_count": 13,
   "id": "095d7fbf",
   "metadata": {},
   "outputs": [
    {
     "data": {
      "text/html": [
       "<style type=\"text/css\">\n",
       "#T_cebe4_row0_col4, #T_cebe4_row1_col4, #T_cebe4_row2_col4 {\n",
       "  background-color: lightblue;\n",
       "}\n",
       "</style>\n",
       "<table id=\"T_cebe4\">\n",
       "  <thead>\n",
       "    <tr>\n",
       "      <th class=\"blank level0\" >&nbsp;</th>\n",
       "      <th id=\"T_cebe4_level0_col0\" class=\"col_heading level0 col0\" >Track Name</th>\n",
       "      <th id=\"T_cebe4_level0_col1\" class=\"col_heading level0 col1\" >Artist(s) Name</th>\n",
       "      <th id=\"T_cebe4_level0_col2\" class=\"col_heading level0 col2\" >Released Year</th>\n",
       "      <th id=\"T_cebe4_level0_col3\" class=\"col_heading level0 col3\" >Released Month</th>\n",
       "      <th id=\"T_cebe4_level0_col4\" class=\"col_heading level0 col4\" >In Apple Playlists</th>\n",
       "      <th id=\"T_cebe4_level0_col5\" class=\"col_heading level0 col5\" >BPM</th>\n",
       "      <th id=\"T_cebe4_level0_col6\" class=\"col_heading level0 col6\" >Key</th>\n",
       "      <th id=\"T_cebe4_level0_col7\" class=\"col_heading level0 col7\" >Deezer Genre</th>\n",
       "    </tr>\n",
       "  </thead>\n",
       "  <tbody>\n",
       "    <tr>\n",
       "      <th id=\"T_cebe4_level0_row0\" class=\"row_heading level0 row0\" >183</th>\n",
       "      <td id=\"T_cebe4_row0_col0\" class=\"data row0 col0\" >Eyes Closed</td>\n",
       "      <td id=\"T_cebe4_row0_col1\" class=\"data row0 col1\" >Ed Sheeran</td>\n",
       "      <td id=\"T_cebe4_row0_col2\" class=\"data row0 col2\" >2023</td>\n",
       "      <td id=\"T_cebe4_row0_col3\" class=\"data row0 col3\" >3</td>\n",
       "      <td id=\"T_cebe4_row0_col4\" class=\"data row0 col4\" >116</td>\n",
       "      <td id=\"T_cebe4_row0_col5\" class=\"data row0 col5\" >107</td>\n",
       "      <td id=\"T_cebe4_row0_col6\" class=\"data row0 col6\" >D</td>\n",
       "      <td id=\"T_cebe4_row0_col7\" class=\"data row0 col7\" >Pop</td>\n",
       "    </tr>\n",
       "    <tr>\n",
       "      <th id=\"T_cebe4_level0_row1\" class=\"row_heading level0 row1\" >332</th>\n",
       "      <td id=\"T_cebe4_row1_col0\" class=\"data row1 col0\" >LLYLM</td>\n",
       "      <td id=\"T_cebe4_row1_col1\" class=\"data row1 col1\" >ROSALï¿½</td>\n",
       "      <td id=\"T_cebe4_row1_col2\" class=\"data row1 col2\" >2023</td>\n",
       "      <td id=\"T_cebe4_row1_col3\" class=\"data row1 col3\" >1</td>\n",
       "      <td id=\"T_cebe4_row1_col4\" class=\"data row1 col4\" >105</td>\n",
       "      <td id=\"T_cebe4_row1_col5\" class=\"data row1 col5\" >170</td>\n",
       "      <td id=\"T_cebe4_row1_col6\" class=\"data row1 col6\" >F#</td>\n",
       "      <td id=\"T_cebe4_row1_col7\" class=\"data row1 col7\" >Pop</td>\n",
       "    </tr>\n",
       "    <tr>\n",
       "      <th id=\"T_cebe4_level0_row2\" class=\"row_heading level0 row2\" >2</th>\n",
       "      <td id=\"T_cebe4_row2_col0\" class=\"data row2 col0\" >vampire</td>\n",
       "      <td id=\"T_cebe4_row2_col1\" class=\"data row2 col1\" >Olivia Rodrigo</td>\n",
       "      <td id=\"T_cebe4_row2_col2\" class=\"data row2 col2\" >2023</td>\n",
       "      <td id=\"T_cebe4_row2_col3\" class=\"data row2 col3\" >6</td>\n",
       "      <td id=\"T_cebe4_row2_col4\" class=\"data row2 col4\" >94</td>\n",
       "      <td id=\"T_cebe4_row2_col5\" class=\"data row2 col5\" >138</td>\n",
       "      <td id=\"T_cebe4_row2_col6\" class=\"data row2 col6\" >F</td>\n",
       "      <td id=\"T_cebe4_row2_col7\" class=\"data row2 col7\" >Pop</td>\n",
       "    </tr>\n",
       "  </tbody>\n",
       "</table>\n"
      ],
      "text/plain": [
       "<pandas.io.formats.style.Styler at 0x2a2aacd3ed0>"
      ]
     },
     "execution_count": 13,
     "metadata": {},
     "output_type": "execute_result"
    }
   ],
   "source": [
    "# Top songs in 23 based on Apple playlists\n",
    "\n",
    "# sort the \"in_apple_playlists\" in DESCENDING order.\n",
    "top_23_Apple_playlists = songs_23_df.sort_values(by=\"In Apple Playlists\", ascending=False) \n",
    "\n",
    "top_23_Apple_playlists[[\"Track Name\", \"Artist(s) Name\", \"Released Year\", \\\n",
    "                      \"Released Month\", \"In Apple Playlists\", \"BPM\", \"Key\", \"Deezer Genre\"]].head(3)\\\n",
    "                      .style.apply(highlighting, axis=0, subset=[\"In Apple Playlists\"])"
   ]
  },
  {
   "cell_type": "markdown",
   "id": "7463c1d1",
   "metadata": {},
   "source": [
    "### `Top Songs in 2023 Deezer`"
   ]
  },
  {
   "cell_type": "code",
   "execution_count": 14,
   "id": "9a7a7f94",
   "metadata": {},
   "outputs": [
    {
     "data": {
      "text/html": [
       "<style type=\"text/css\">\n",
       "#T_ba8b0_row0_col4, #T_ba8b0_row1_col4, #T_ba8b0_row2_col4 {\n",
       "  background-color: lightblue;\n",
       "}\n",
       "</style>\n",
       "<table id=\"T_ba8b0\">\n",
       "  <thead>\n",
       "    <tr>\n",
       "      <th class=\"blank level0\" >&nbsp;</th>\n",
       "      <th id=\"T_ba8b0_level0_col0\" class=\"col_heading level0 col0\" >Track Name</th>\n",
       "      <th id=\"T_ba8b0_level0_col1\" class=\"col_heading level0 col1\" >Artist(s) Name</th>\n",
       "      <th id=\"T_ba8b0_level0_col2\" class=\"col_heading level0 col2\" >Released Year</th>\n",
       "      <th id=\"T_ba8b0_level0_col3\" class=\"col_heading level0 col3\" >Released Month</th>\n",
       "      <th id=\"T_ba8b0_level0_col4\" class=\"col_heading level0 col4\" >In Deezer Playlists</th>\n",
       "      <th id=\"T_ba8b0_level0_col5\" class=\"col_heading level0 col5\" >BPM</th>\n",
       "      <th id=\"T_ba8b0_level0_col6\" class=\"col_heading level0 col6\" >Key</th>\n",
       "      <th id=\"T_ba8b0_level0_col7\" class=\"col_heading level0 col7\" >Deezer Genre</th>\n",
       "    </tr>\n",
       "  </thead>\n",
       "  <tbody>\n",
       "    <tr>\n",
       "      <th id=\"T_ba8b0_level0_row0\" class=\"row_heading level0 row0\" >12</th>\n",
       "      <td id=\"T_ba8b0_row0_col0\" class=\"data row0 col0\" >Daylight</td>\n",
       "      <td id=\"T_ba8b0_row0_col1\" class=\"data row0 col1\" >David Kushner</td>\n",
       "      <td id=\"T_ba8b0_row0_col2\" class=\"data row0 col2\" >2023</td>\n",
       "      <td id=\"T_ba8b0_row0_col3\" class=\"data row0 col3\" >4</td>\n",
       "      <td id=\"T_ba8b0_row0_col4\" class=\"data row0 col4\" >182</td>\n",
       "      <td id=\"T_ba8b0_row0_col5\" class=\"data row0 col5\" >130</td>\n",
       "      <td id=\"T_ba8b0_row0_col6\" class=\"data row0 col6\" >D</td>\n",
       "      <td id=\"T_ba8b0_row0_col7\" class=\"data row0 col7\" >Pop</td>\n",
       "    </tr>\n",
       "    <tr>\n",
       "      <th id=\"T_ba8b0_level0_row1\" class=\"row_heading level0 row1\" >102</th>\n",
       "      <td id=\"T_ba8b0_row1_col0\" class=\"data row1 col0\" >Tattoo</td>\n",
       "      <td id=\"T_ba8b0_row1_col1\" class=\"data row1 col1\" >Loreen</td>\n",
       "      <td id=\"T_ba8b0_row1_col2\" class=\"data row1 col2\" >2023</td>\n",
       "      <td id=\"T_ba8b0_row1_col3\" class=\"data row1 col3\" >2</td>\n",
       "      <td id=\"T_ba8b0_row1_col4\" class=\"data row1 col4\" >145</td>\n",
       "      <td id=\"T_ba8b0_row1_col5\" class=\"data row1 col5\" >150</td>\n",
       "      <td id=\"T_ba8b0_row1_col6\" class=\"data row1 col6\" >D#</td>\n",
       "      <td id=\"T_ba8b0_row1_col7\" class=\"data row1 col7\" >Pop</td>\n",
       "    </tr>\n",
       "    <tr>\n",
       "      <th id=\"T_ba8b0_level0_row2\" class=\"row_heading level0 row2\" >25</th>\n",
       "      <td id=\"T_ba8b0_row2_col0\" class=\"data row2 col0\" >Dance The Night (From Barbie The Album)</td>\n",
       "      <td id=\"T_ba8b0_row2_col1\" class=\"data row2 col1\" >Dua Lipa</td>\n",
       "      <td id=\"T_ba8b0_row2_col2\" class=\"data row2 col2\" >2023</td>\n",
       "      <td id=\"T_ba8b0_row2_col3\" class=\"data row2 col3\" >5</td>\n",
       "      <td id=\"T_ba8b0_row2_col4\" class=\"data row2 col4\" >143</td>\n",
       "      <td id=\"T_ba8b0_row2_col5\" class=\"data row2 col5\" >110</td>\n",
       "      <td id=\"T_ba8b0_row2_col6\" class=\"data row2 col6\" >B</td>\n",
       "      <td id=\"T_ba8b0_row2_col7\" class=\"data row2 col7\" >Pop</td>\n",
       "    </tr>\n",
       "  </tbody>\n",
       "</table>\n"
      ],
      "text/plain": [
       "<pandas.io.formats.style.Styler at 0x2a2aacc6110>"
      ]
     },
     "execution_count": 14,
     "metadata": {},
     "output_type": "execute_result"
    }
   ],
   "source": [
    "# Top songs in 23 based on Deezer playlists\n",
    "\n",
    "# sort the \"in_deezer_playlists\" in DESCING order.\n",
    "top_23_Deezer_playlists = songs_23_df.sort_values(by=\"In Deezer Playlists\", ascending=False)\n",
    "\n",
    "top_23_Deezer_playlists[[\"Track Name\", \"Artist(s) Name\", \"Released Year\", \\\n",
    "                      \"Released Month\", \"In Deezer Playlists\", \"BPM\", \"Key\", \"Deezer Genre\"]].head(3)\\\n",
    "                      .style.apply(highlighting, axis=0, subset=[\"In Deezer Playlists\"])"
   ]
  },
  {
   "cell_type": "markdown",
   "id": "701de2e9",
   "metadata": {},
   "source": [
    "## Top Songs Released in 2022: ____________________________________________________________________________"
   ]
  },
  {
   "cell_type": "code",
   "execution_count": 15,
   "id": "4a887d0e",
   "metadata": {},
   "outputs": [],
   "source": [
    "# Songs that were released in 2022:\n",
    "artists_22_df = cleaned_final_music_df[cleaned_final_music_df[\"Artist Count\"] == 1]\n",
    "songs_22_df = artists_22_df[artists_22_df[\"Released Year\"] == 2022]"
   ]
  },
  {
   "cell_type": "markdown",
   "id": "08e33d4e",
   "metadata": {},
   "source": [
    "### `Top Songs in 2022 Spotify`"
   ]
  },
  {
   "cell_type": "code",
   "execution_count": 16,
   "id": "83bfe463",
   "metadata": {},
   "outputs": [
    {
     "data": {
      "text/html": [
       "<style type=\"text/css\">\n",
       "#T_ab476_row0_col4, #T_ab476_row1_col4, #T_ab476_row2_col4 {\n",
       "  background-color: lightblue;\n",
       "}\n",
       "</style>\n",
       "<table id=\"T_ab476\">\n",
       "  <thead>\n",
       "    <tr>\n",
       "      <th class=\"blank level0\" >&nbsp;</th>\n",
       "      <th id=\"T_ab476_level0_col0\" class=\"col_heading level0 col0\" >Track Name</th>\n",
       "      <th id=\"T_ab476_level0_col1\" class=\"col_heading level0 col1\" >Artist(s) Name</th>\n",
       "      <th id=\"T_ab476_level0_col2\" class=\"col_heading level0 col2\" >Released Year</th>\n",
       "      <th id=\"T_ab476_level0_col3\" class=\"col_heading level0 col3\" >Released Month</th>\n",
       "      <th id=\"T_ab476_level0_col4\" class=\"col_heading level0 col4\" >Spotify Streams</th>\n",
       "      <th id=\"T_ab476_level0_col5\" class=\"col_heading level0 col5\" >BPM</th>\n",
       "      <th id=\"T_ab476_level0_col6\" class=\"col_heading level0 col6\" >Key</th>\n",
       "      <th id=\"T_ab476_level0_col7\" class=\"col_heading level0 col7\" >Deezer Genre</th>\n",
       "    </tr>\n",
       "  </thead>\n",
       "  <tbody>\n",
       "    <tr>\n",
       "      <th id=\"T_ab476_level0_row0\" class=\"row_heading level0 row0\" >161</th>\n",
       "      <td id=\"T_ab476_row0_col0\" class=\"data row0 col0\" >Titi Me Preguntï¿</td>\n",
       "      <td id=\"T_ab476_row0_col1\" class=\"data row0 col1\" >Bad Bunny</td>\n",
       "      <td id=\"T_ab476_row0_col2\" class=\"data row0 col2\" >2022</td>\n",
       "      <td id=\"T_ab476_row0_col3\" class=\"data row0 col3\" >5</td>\n",
       "      <td id=\"T_ab476_row0_col4\" class=\"data row0 col4\" >1,264,310,836</td>\n",
       "      <td id=\"T_ab476_row0_col5\" class=\"data row0 col5\" >107</td>\n",
       "      <td id=\"T_ab476_row0_col6\" class=\"data row0 col6\" >F</td>\n",
       "      <td id=\"T_ab476_row0_col7\" class=\"data row0 col7\" >Latin Music</td>\n",
       "    </tr>\n",
       "    <tr>\n",
       "      <th id=\"T_ab476_level0_row1\" class=\"row_heading level0 row1\" >48</th>\n",
       "      <td id=\"T_ab476_row1_col0\" class=\"data row1 col0\" >La Bachata</td>\n",
       "      <td id=\"T_ab476_row1_col1\" class=\"data row1 col1\" >Manuel Turizo</td>\n",
       "      <td id=\"T_ab476_row1_col2\" class=\"data row1 col2\" >2022</td>\n",
       "      <td id=\"T_ab476_row1_col3\" class=\"data row1 col3\" >5</td>\n",
       "      <td id=\"T_ab476_row1_col4\" class=\"data row1 col4\" >1,214,083,358</td>\n",
       "      <td id=\"T_ab476_row1_col5\" class=\"data row1 col5\" >125</td>\n",
       "      <td id=\"T_ab476_row1_col6\" class=\"data row1 col6\" >G</td>\n",
       "      <td id=\"T_ab476_row1_col7\" class=\"data row1 col7\" >Rap/Hip Hop</td>\n",
       "    </tr>\n",
       "    <tr>\n",
       "      <th id=\"T_ab476_level0_row2\" class=\"row_heading level0 row2\" >13</th>\n",
       "      <td id=\"T_ab476_row2_col0\" class=\"data row2 col0\" >Kill Bill</td>\n",
       "      <td id=\"T_ab476_row2_col1\" class=\"data row2 col1\" >SZA</td>\n",
       "      <td id=\"T_ab476_row2_col2\" class=\"data row2 col2\" >2022</td>\n",
       "      <td id=\"T_ab476_row2_col3\" class=\"data row2 col3\" >12</td>\n",
       "      <td id=\"T_ab476_row2_col4\" class=\"data row2 col4\" >1,163,093,654</td>\n",
       "      <td id=\"T_ab476_row2_col5\" class=\"data row2 col5\" >89</td>\n",
       "      <td id=\"T_ab476_row2_col6\" class=\"data row2 col6\" >G#</td>\n",
       "      <td id=\"T_ab476_row2_col7\" class=\"data row2 col7\" >R&B</td>\n",
       "    </tr>\n",
       "  </tbody>\n",
       "</table>\n"
      ],
      "text/plain": [
       "<pandas.io.formats.style.Styler at 0x2a2aad051d0>"
      ]
     },
     "execution_count": 16,
     "metadata": {},
     "output_type": "execute_result"
    }
   ],
   "source": [
    "# Top songs in '22\n",
    "\n",
    "# Sort the \"streams\" values in DESCENDING order.\n",
    "top_22_streams_df = songs_22_df.sort_values(by=\"Spotify Streams\", ascending=False) \n",
    "\n",
    "# Format the Streams Column for better readability.\n",
    "top_22_streams_df[\"Spotify Streams\"] = top_22_streams_df[\"Spotify Streams\"].map(\"{:,}\".format)\n",
    "\n",
    "# Display the Specified Columns and Apply the highlight format:\n",
    "top_22_streams_df[[\"Track Name\", \"Artist(s) Name\", \"Released Year\", \\\n",
    "                  \"Released Month\", \"Spotify Streams\", \"BPM\", \"Key\", \"Deezer Genre\"]].\\\n",
    "                  head(3).style.apply(highlighting, axis=0, subset=[\"Spotify Streams\"])"
   ]
  },
  {
   "cell_type": "code",
   "execution_count": 17,
   "id": "5f8893e1",
   "metadata": {},
   "outputs": [
    {
     "data": {
      "text/html": [
       "<style type=\"text/css\">\n",
       "#T_a2573_row0_col4, #T_a2573_row1_col4, #T_a2573_row2_col4 {\n",
       "  background-color: lightblue;\n",
       "}\n",
       "</style>\n",
       "<table id=\"T_a2573\">\n",
       "  <thead>\n",
       "    <tr>\n",
       "      <th class=\"blank level0\" >&nbsp;</th>\n",
       "      <th id=\"T_a2573_level0_col0\" class=\"col_heading level0 col0\" >Track Name</th>\n",
       "      <th id=\"T_a2573_level0_col1\" class=\"col_heading level0 col1\" >Artist(s) Name</th>\n",
       "      <th id=\"T_a2573_level0_col2\" class=\"col_heading level0 col2\" >Released Year</th>\n",
       "      <th id=\"T_a2573_level0_col3\" class=\"col_heading level0 col3\" >Released Month</th>\n",
       "      <th id=\"T_a2573_level0_col4\" class=\"col_heading level0 col4\" >In Spotify Playlists</th>\n",
       "      <th id=\"T_a2573_level0_col5\" class=\"col_heading level0 col5\" >BPM</th>\n",
       "      <th id=\"T_a2573_level0_col6\" class=\"col_heading level0 col6\" >Key</th>\n",
       "      <th id=\"T_a2573_level0_col7\" class=\"col_heading level0 col7\" >Deezer Genre</th>\n",
       "    </tr>\n",
       "  </thead>\n",
       "  <tbody>\n",
       "    <tr>\n",
       "      <th id=\"T_a2573_level0_row0\" class=\"row_heading level0 row0\" >737</th>\n",
       "      <td id=\"T_a2573_row0_col0\" class=\"data row0 col0\" >BREAK MY SOUL</td>\n",
       "      <td id=\"T_a2573_row0_col1\" class=\"data row0 col1\" >Beyoncï¿</td>\n",
       "      <td id=\"T_a2573_row0_col2\" class=\"data row0 col2\" >2022</td>\n",
       "      <td id=\"T_a2573_row0_col3\" class=\"data row0 col3\" >6</td>\n",
       "      <td id=\"T_a2573_row0_col4\" class=\"data row0 col4\" >9,724</td>\n",
       "      <td id=\"T_a2573_row0_col5\" class=\"data row0 col5\" >115</td>\n",
       "      <td id=\"T_a2573_row0_col6\" class=\"data row0 col6\" >C#</td>\n",
       "      <td id=\"T_a2573_row0_col7\" class=\"data row0 col7\" >Pop</td>\n",
       "    </tr>\n",
       "    <tr>\n",
       "      <th id=\"T_a2573_level0_row1\" class=\"row_heading level0 row1\" >29</th>\n",
       "      <td id=\"T_a2573_row1_col0\" class=\"data row1 col0\" >Anti-Hero</td>\n",
       "      <td id=\"T_a2573_row1_col1\" class=\"data row1 col1\" >Taylor Swift</td>\n",
       "      <td id=\"T_a2573_row1_col2\" class=\"data row1 col2\" >2022</td>\n",
       "      <td id=\"T_a2573_row1_col3\" class=\"data row1 col3\" >10</td>\n",
       "      <td id=\"T_a2573_row1_col4\" class=\"data row1 col4\" >9,082</td>\n",
       "      <td id=\"T_a2573_row1_col5\" class=\"data row1 col5\" >97</td>\n",
       "      <td id=\"T_a2573_row1_col6\" class=\"data row1 col6\" >E</td>\n",
       "      <td id=\"T_a2573_row1_col7\" class=\"data row1 col7\" >Pop</td>\n",
       "    </tr>\n",
       "    <tr>\n",
       "      <th id=\"T_a2573_level0_row2\" class=\"row_heading level0 row2\" >161</th>\n",
       "      <td id=\"T_a2573_row2_col0\" class=\"data row2 col0\" >Titi Me Preguntï¿</td>\n",
       "      <td id=\"T_a2573_row2_col1\" class=\"data row2 col1\" >Bad Bunny</td>\n",
       "      <td id=\"T_a2573_row2_col2\" class=\"data row2 col2\" >2022</td>\n",
       "      <td id=\"T_a2573_row2_col3\" class=\"data row2 col3\" >5</td>\n",
       "      <td id=\"T_a2573_row2_col4\" class=\"data row2 col4\" >9,037</td>\n",
       "      <td id=\"T_a2573_row2_col5\" class=\"data row2 col5\" >107</td>\n",
       "      <td id=\"T_a2573_row2_col6\" class=\"data row2 col6\" >F</td>\n",
       "      <td id=\"T_a2573_row2_col7\" class=\"data row2 col7\" >Latin Music</td>\n",
       "    </tr>\n",
       "  </tbody>\n",
       "</table>\n"
      ],
      "text/plain": [
       "<pandas.io.formats.style.Styler at 0x2a2aacfe0d0>"
      ]
     },
     "execution_count": 17,
     "metadata": {},
     "output_type": "execute_result"
    }
   ],
   "source": [
    "# Top songs in '22 based on Spotify playlists\n",
    "\n",
    "# sort the \"in_spotify_playlists\" in DESCENDING order.\n",
    "top_22_Spotify_playlists = songs_22_df.sort_values(by=\"In Spotify Playlists\", ascending=False)\n",
    "\n",
    "# Format the Column for better readability.\n",
    "top_22_Spotify_playlists[\"In Spotify Playlists\"] = top_22_Spotify_playlists[\"In Spotify Playlists\"]\\\n",
    "                                                                                         .map(\"{:,}\".format)\n",
    "\n",
    "top_22_Spotify_playlists[[\"Track Name\", \"Artist(s) Name\", \"Released Year\", \\\n",
    "                          \"Released Month\", \"In Spotify Playlists\", \"BPM\", \"Key\", \"Deezer Genre\"]].\\\n",
    "                          head(3).style.apply(highlighting, axis=0, subset=[\"In Spotify Playlists\"])"
   ]
  },
  {
   "cell_type": "markdown",
   "id": "667ecdcc",
   "metadata": {},
   "source": [
    "### `Top Songs in 2022 Apple`"
   ]
  },
  {
   "cell_type": "code",
   "execution_count": 18,
   "id": "1f232060",
   "metadata": {},
   "outputs": [
    {
     "data": {
      "text/html": [
       "<style type=\"text/css\">\n",
       "#T_330af_row0_col4, #T_330af_row1_col4, #T_330af_row2_col4 {\n",
       "  background-color: lightblue;\n",
       "}\n",
       "</style>\n",
       "<table id=\"T_330af\">\n",
       "  <thead>\n",
       "    <tr>\n",
       "      <th class=\"blank level0\" >&nbsp;</th>\n",
       "      <th id=\"T_330af_level0_col0\" class=\"col_heading level0 col0\" >Track Name</th>\n",
       "      <th id=\"T_330af_level0_col1\" class=\"col_heading level0 col1\" >Artist(s) Name</th>\n",
       "      <th id=\"T_330af_level0_col2\" class=\"col_heading level0 col2\" >Released Year</th>\n",
       "      <th id=\"T_330af_level0_col3\" class=\"col_heading level0 col3\" >Released Month</th>\n",
       "      <th id=\"T_330af_level0_col4\" class=\"col_heading level0 col4\" >In Apple Playlists</th>\n",
       "      <th id=\"T_330af_level0_col5\" class=\"col_heading level0 col5\" >BPM</th>\n",
       "      <th id=\"T_330af_level0_col6\" class=\"col_heading level0 col6\" >Key</th>\n",
       "      <th id=\"T_330af_level0_col7\" class=\"col_heading level0 col7\" >Deezer Genre</th>\n",
       "    </tr>\n",
       "  </thead>\n",
       "  <tbody>\n",
       "    <tr>\n",
       "      <th id=\"T_330af_level0_row0\" class=\"row_heading level0 row0\" >29</th>\n",
       "      <td id=\"T_330af_row0_col0\" class=\"data row0 col0\" >Anti-Hero</td>\n",
       "      <td id=\"T_330af_row0_col1\" class=\"data row0 col1\" >Taylor Swift</td>\n",
       "      <td id=\"T_330af_row0_col2\" class=\"data row0 col2\" >2022</td>\n",
       "      <td id=\"T_330af_row0_col3\" class=\"data row0 col3\" >10</td>\n",
       "      <td id=\"T_330af_row0_col4\" class=\"data row0 col4\" >242</td>\n",
       "      <td id=\"T_330af_row0_col5\" class=\"data row0 col5\" >97</td>\n",
       "      <td id=\"T_330af_row0_col6\" class=\"data row0 col6\" >E</td>\n",
       "      <td id=\"T_330af_row0_col7\" class=\"data row0 col7\" >Pop</td>\n",
       "    </tr>\n",
       "    <tr>\n",
       "      <th id=\"T_330af_level0_row1\" class=\"row_heading level0 row1\" >647</th>\n",
       "      <td id=\"T_330af_row1_col0\" class=\"data row1 col0\" >About Damn Time</td>\n",
       "      <td id=\"T_330af_row1_col1\" class=\"data row1 col1\" >Lizzo</td>\n",
       "      <td id=\"T_330af_row1_col2\" class=\"data row1 col2\" >2022</td>\n",
       "      <td id=\"T_330af_row1_col3\" class=\"data row1 col3\" >4</td>\n",
       "      <td id=\"T_330af_row1_col4\" class=\"data row1 col4\" >242</td>\n",
       "      <td id=\"T_330af_row1_col5\" class=\"data row1 col5\" >109</td>\n",
       "      <td id=\"T_330af_row1_col6\" class=\"data row1 col6\" >A#</td>\n",
       "      <td id=\"T_330af_row1_col7\" class=\"data row1 col7\" >Pop</td>\n",
       "    </tr>\n",
       "    <tr>\n",
       "      <th id=\"T_330af_level0_row2\" class=\"row_heading level0 row2\" >737</th>\n",
       "      <td id=\"T_330af_row2_col0\" class=\"data row2 col0\" >BREAK MY SOUL</td>\n",
       "      <td id=\"T_330af_row2_col1\" class=\"data row2 col1\" >Beyoncï¿</td>\n",
       "      <td id=\"T_330af_row2_col2\" class=\"data row2 col2\" >2022</td>\n",
       "      <td id=\"T_330af_row2_col3\" class=\"data row2 col3\" >6</td>\n",
       "      <td id=\"T_330af_row2_col4\" class=\"data row2 col4\" >222</td>\n",
       "      <td id=\"T_330af_row2_col5\" class=\"data row2 col5\" >115</td>\n",
       "      <td id=\"T_330af_row2_col6\" class=\"data row2 col6\" >C#</td>\n",
       "      <td id=\"T_330af_row2_col7\" class=\"data row2 col7\" >Pop</td>\n",
       "    </tr>\n",
       "  </tbody>\n",
       "</table>\n"
      ],
      "text/plain": [
       "<pandas.io.formats.style.Styler at 0x2a2aacd5e90>"
      ]
     },
     "execution_count": 18,
     "metadata": {},
     "output_type": "execute_result"
    }
   ],
   "source": [
    "# Top songs in '22 based on Apple playlists\n",
    "\n",
    "# sort the \"in_apple_playlists\" in DESCENDING order.\n",
    "top_22_Apple_playlists = songs_22_df.sort_values(by=\"In Apple Playlists\", ascending=False) \n",
    "\n",
    "top_22_Apple_playlists[[\"Track Name\", \"Artist(s) Name\", \"Released Year\", \\\n",
    "                        \"Released Month\", \"In Apple Playlists\", \"BPM\", \"Key\", \"Deezer Genre\"]].\\\n",
    "                        head(3).style.apply(highlighting, axis=0, subset=[\"In Apple Playlists\"])"
   ]
  },
  {
   "cell_type": "markdown",
   "id": "b186cb78",
   "metadata": {},
   "source": [
    "### `Top Songs in 2022 Deezer`"
   ]
  },
  {
   "cell_type": "code",
   "execution_count": 19,
   "id": "c0b23bfe",
   "metadata": {},
   "outputs": [
    {
     "data": {
      "text/html": [
       "<style type=\"text/css\">\n",
       "#T_bddec_row0_col4, #T_bddec_row1_col4, #T_bddec_row2_col4 {\n",
       "  background-color: lightblue;\n",
       "}\n",
       "</style>\n",
       "<table id=\"T_bddec\">\n",
       "  <thead>\n",
       "    <tr>\n",
       "      <th class=\"blank level0\" >&nbsp;</th>\n",
       "      <th id=\"T_bddec_level0_col0\" class=\"col_heading level0 col0\" >Track Name</th>\n",
       "      <th id=\"T_bddec_level0_col1\" class=\"col_heading level0 col1\" >Artist(s) Name</th>\n",
       "      <th id=\"T_bddec_level0_col2\" class=\"col_heading level0 col2\" >Released Year</th>\n",
       "      <th id=\"T_bddec_level0_col3\" class=\"col_heading level0 col3\" >Released Month</th>\n",
       "      <th id=\"T_bddec_level0_col4\" class=\"col_heading level0 col4\" >In Deezer Playlists</th>\n",
       "      <th id=\"T_bddec_level0_col5\" class=\"col_heading level0 col5\" >BPM</th>\n",
       "      <th id=\"T_bddec_level0_col6\" class=\"col_heading level0 col6\" >Key</th>\n",
       "      <th id=\"T_bddec_level0_col7\" class=\"col_heading level0 col7\" >Deezer Genre</th>\n",
       "    </tr>\n",
       "  </thead>\n",
       "  <tbody>\n",
       "    <tr>\n",
       "      <th id=\"T_bddec_level0_row0\" class=\"row_heading level0 row0\" >243</th>\n",
       "      <td id=\"T_bddec_row0_col0\" class=\"data row0 col0\" >DESPECHï¿</td>\n",
       "      <td id=\"T_bddec_row0_col1\" class=\"data row0 col1\" >ROSALï¿½</td>\n",
       "      <td id=\"T_bddec_row0_col2\" class=\"data row0 col2\" >2022</td>\n",
       "      <td id=\"T_bddec_row0_col3\" class=\"data row0 col3\" >7</td>\n",
       "      <td id=\"T_bddec_row0_col4\" class=\"data row0 col4\" >422</td>\n",
       "      <td id=\"T_bddec_row0_col5\" class=\"data row0 col5\" >130</td>\n",
       "      <td id=\"T_bddec_row0_col6\" class=\"data row0 col6\" >G</td>\n",
       "      <td id=\"T_bddec_row0_col7\" class=\"data row0 col7\" >Pop</td>\n",
       "    </tr>\n",
       "    <tr>\n",
       "      <th id=\"T_bddec_level0_row1\" class=\"row_heading level0 row1\" >199</th>\n",
       "      <td id=\"T_bddec_row1_col0\" class=\"data row1 col0\" >CUFF IT</td>\n",
       "      <td id=\"T_bddec_row1_col1\" class=\"data row1 col1\" >Beyoncï¿</td>\n",
       "      <td id=\"T_bddec_row1_col2\" class=\"data row1 col2\" >2022</td>\n",
       "      <td id=\"T_bddec_row1_col3\" class=\"data row1 col3\" >7</td>\n",
       "      <td id=\"T_bddec_row1_col4\" class=\"data row1 col4\" >330</td>\n",
       "      <td id=\"T_bddec_row1_col5\" class=\"data row1 col5\" >115</td>\n",
       "      <td id=\"T_bddec_row1_col6\" class=\"data row1 col6\" >G</td>\n",
       "      <td id=\"T_bddec_row1_col7\" class=\"data row1 col7\" >Pop</td>\n",
       "    </tr>\n",
       "    <tr>\n",
       "      <th id=\"T_bddec_level0_row2\" class=\"row_heading level0 row2\" >785</th>\n",
       "      <td id=\"T_bddec_row2_col0\" class=\"data row2 col0\" >THE LONELIEST</td>\n",
       "      <td id=\"T_bddec_row2_col1\" class=\"data row2 col1\" >Mï¿½ï¿½ne</td>\n",
       "      <td id=\"T_bddec_row2_col2\" class=\"data row2 col2\" >2022</td>\n",
       "      <td id=\"T_bddec_row2_col3\" class=\"data row2 col3\" >10</td>\n",
       "      <td id=\"T_bddec_row2_col4\" class=\"data row2 col4\" >328</td>\n",
       "      <td id=\"T_bddec_row2_col5\" class=\"data row2 col5\" >130</td>\n",
       "      <td id=\"T_bddec_row2_col6\" class=\"data row2 col6\" >D</td>\n",
       "      <td id=\"T_bddec_row2_col7\" class=\"data row2 col7\" >Rock</td>\n",
       "    </tr>\n",
       "  </tbody>\n",
       "</table>\n"
      ],
      "text/plain": [
       "<pandas.io.formats.style.Styler at 0x2a2aacfecd0>"
      ]
     },
     "execution_count": 19,
     "metadata": {},
     "output_type": "execute_result"
    }
   ],
   "source": [
    "# Top songs in '22 based on Deezer playlists\n",
    "\n",
    "# sort the \"in_deezer_playlists\" in DESCENDING order.\n",
    "top_22_Deezer_playlists = songs_22_df.sort_values(by=\"In Deezer Playlists\", ascending=False) \n",
    "\n",
    "top_22_Deezer_playlists[[\"Track Name\", \"Artist(s) Name\", \"Released Year\", \\\n",
    "                        \"Released Month\", \"In Deezer Playlists\", \"BPM\", \"Key\", \"Deezer Genre\"]].\\\n",
    "                        head(3).style.apply(highlighting, axis=0, subset=[\"In Deezer Playlists\"])"
   ]
  },
  {
   "cell_type": "markdown",
   "id": "beb2a72a",
   "metadata": {},
   "source": [
    "## Top Songs Released Prior 2022: ____________________________________________________________________________"
   ]
  },
  {
   "cell_type": "code",
   "execution_count": 20,
   "id": "2a422052",
   "metadata": {},
   "outputs": [],
   "source": [
    "# all songs before 2022:\n",
    "artists_prior_df = cleaned_final_music_df[cleaned_final_music_df[\"Artist Count\"] == 1]\n",
    "music_prior_df = artists_prior_df[artists_prior_df[\"Released Year\"] < 2022]"
   ]
  },
  {
   "cell_type": "markdown",
   "id": "20098e40",
   "metadata": {},
   "source": [
    "### `Top Songs Prior 2022 Spotify`"
   ]
  },
  {
   "cell_type": "code",
   "execution_count": 21,
   "id": "b2d20dd2",
   "metadata": {},
   "outputs": [
    {
     "data": {
      "text/html": [
       "<style type=\"text/css\">\n",
       "#T_aed6c_row0_col4, #T_aed6c_row1_col4, #T_aed6c_row2_col4 {\n",
       "  background-color: lightblue;\n",
       "}\n",
       "</style>\n",
       "<table id=\"T_aed6c\">\n",
       "  <thead>\n",
       "    <tr>\n",
       "      <th class=\"blank level0\" >&nbsp;</th>\n",
       "      <th id=\"T_aed6c_level0_col0\" class=\"col_heading level0 col0\" >Track Name</th>\n",
       "      <th id=\"T_aed6c_level0_col1\" class=\"col_heading level0 col1\" >Artist(s) Name</th>\n",
       "      <th id=\"T_aed6c_level0_col2\" class=\"col_heading level0 col2\" >Released Year</th>\n",
       "      <th id=\"T_aed6c_level0_col3\" class=\"col_heading level0 col3\" >Released Month</th>\n",
       "      <th id=\"T_aed6c_level0_col4\" class=\"col_heading level0 col4\" >Spotify Streams</th>\n",
       "      <th id=\"T_aed6c_level0_col5\" class=\"col_heading level0 col5\" >BPM</th>\n",
       "      <th id=\"T_aed6c_level0_col6\" class=\"col_heading level0 col6\" >Key</th>\n",
       "      <th id=\"T_aed6c_level0_col7\" class=\"col_heading level0 col7\" >Deezer Genre</th>\n",
       "    </tr>\n",
       "  </thead>\n",
       "  <tbody>\n",
       "    <tr>\n",
       "      <th id=\"T_aed6c_level0_row0\" class=\"row_heading level0 row0\" >151</th>\n",
       "      <td id=\"T_aed6c_row0_col0\" class=\"data row0 col0\" >Shape of You</td>\n",
       "      <td id=\"T_aed6c_row0_col1\" class=\"data row0 col1\" >Ed Sheeran</td>\n",
       "      <td id=\"T_aed6c_row0_col2\" class=\"data row0 col2\" >2017</td>\n",
       "      <td id=\"T_aed6c_row0_col3\" class=\"data row0 col3\" >1</td>\n",
       "      <td id=\"T_aed6c_row0_col4\" class=\"data row0 col4\" >3,562,543,890</td>\n",
       "      <td id=\"T_aed6c_row0_col5\" class=\"data row0 col5\" >96</td>\n",
       "      <td id=\"T_aed6c_row0_col6\" class=\"data row0 col6\" >C#</td>\n",
       "      <td id=\"T_aed6c_row0_col7\" class=\"data row0 col7\" >Pop</td>\n",
       "    </tr>\n",
       "    <tr>\n",
       "      <th id=\"T_aed6c_level0_row1\" class=\"row_heading level0 row1\" >122</th>\n",
       "      <td id=\"T_aed6c_row1_col0\" class=\"data row1 col0\" >Believer</td>\n",
       "      <td id=\"T_aed6c_row1_col1\" class=\"data row1 col1\" >Imagine Dragons</td>\n",
       "      <td id=\"T_aed6c_row1_col2\" class=\"data row1 col2\" >2017</td>\n",
       "      <td id=\"T_aed6c_row1_col3\" class=\"data row1 col3\" >1</td>\n",
       "      <td id=\"T_aed6c_row1_col4\" class=\"data row1 col4\" >2,594,040,133</td>\n",
       "      <td id=\"T_aed6c_row1_col5\" class=\"data row1 col5\" >125</td>\n",
       "      <td id=\"T_aed6c_row1_col6\" class=\"data row1 col6\" >A#</td>\n",
       "      <td id=\"T_aed6c_row1_col7\" class=\"data row1 col7\" >Alternative</td>\n",
       "    </tr>\n",
       "    <tr>\n",
       "      <th id=\"T_aed6c_level0_row2\" class=\"row_heading level0 row2\" >120</th>\n",
       "      <td id=\"T_aed6c_row2_col0\" class=\"data row2 col0\" >Perfect</td>\n",
       "      <td id=\"T_aed6c_row2_col1\" class=\"data row2 col1\" >Ed Sheeran</td>\n",
       "      <td id=\"T_aed6c_row2_col2\" class=\"data row2 col2\" >2017</td>\n",
       "      <td id=\"T_aed6c_row2_col3\" class=\"data row2 col3\" >1</td>\n",
       "      <td id=\"T_aed6c_row2_col4\" class=\"data row2 col4\" >2,559,529,074</td>\n",
       "      <td id=\"T_aed6c_row2_col5\" class=\"data row2 col5\" >95</td>\n",
       "      <td id=\"T_aed6c_row2_col6\" class=\"data row2 col6\" >G#</td>\n",
       "      <td id=\"T_aed6c_row2_col7\" class=\"data row2 col7\" >Pop</td>\n",
       "    </tr>\n",
       "  </tbody>\n",
       "</table>\n"
      ],
      "text/plain": [
       "<pandas.io.formats.style.Styler at 0x2a2aaceb010>"
      ]
     },
     "execution_count": 21,
     "metadata": {},
     "output_type": "execute_result"
    }
   ],
   "source": [
    "# Sort the \"streams\" values in DESCENDING order.\n",
    "top_prior_streams = music_prior_df.sort_values(by=\"Spotify Streams\", ascending=False) \n",
    "\n",
    "# Format the Column for better readability.\n",
    "top_prior_streams[\"Spotify Streams\"] = top_prior_streams[\"Spotify Streams\"].map(\"{:,}\".format)\n",
    "                                                                                                \n",
    "# Display the Specified Columns and Apply the highlight format:\n",
    "top_prior_streams[[\"Track Name\", \"Artist(s) Name\", \"Released Year\", \\\n",
    "                \"Released Month\", \"Spotify Streams\", \"BPM\", \"Key\", \"Deezer Genre\"]].\\\n",
    "                head(3).style.apply(highlighting, axis=0, subset=[\"Spotify Streams\"])"
   ]
  },
  {
   "cell_type": "code",
   "execution_count": 22,
   "id": "a1f591b1",
   "metadata": {},
   "outputs": [
    {
     "data": {
      "text/html": [
       "<style type=\"text/css\">\n",
       "#T_994f3_row0_col4, #T_994f3_row1_col4, #T_994f3_row2_col4 {\n",
       "  background-color: lightblue;\n",
       "}\n",
       "</style>\n",
       "<table id=\"T_994f3\">\n",
       "  <thead>\n",
       "    <tr>\n",
       "      <th class=\"blank level0\" >&nbsp;</th>\n",
       "      <th id=\"T_994f3_level0_col0\" class=\"col_heading level0 col0\" >Track Name</th>\n",
       "      <th id=\"T_994f3_level0_col1\" class=\"col_heading level0 col1\" >Artist(s) Name</th>\n",
       "      <th id=\"T_994f3_level0_col2\" class=\"col_heading level0 col2\" >Released Year</th>\n",
       "      <th id=\"T_994f3_level0_col3\" class=\"col_heading level0 col3\" >Released Month</th>\n",
       "      <th id=\"T_994f3_level0_col4\" class=\"col_heading level0 col4\" >In Spotify Playlists</th>\n",
       "      <th id=\"T_994f3_level0_col5\" class=\"col_heading level0 col5\" >BPM</th>\n",
       "      <th id=\"T_994f3_level0_col6\" class=\"col_heading level0 col6\" >Key</th>\n",
       "      <th id=\"T_994f3_level0_col7\" class=\"col_heading level0 col7\" >Deezer Genre</th>\n",
       "    </tr>\n",
       "  </thead>\n",
       "  <tbody>\n",
       "    <tr>\n",
       "      <th id=\"T_994f3_level0_row0\" class=\"row_heading level0 row0\" >525</th>\n",
       "      <td id=\"T_994f3_row0_col0\" class=\"data row0 col0\" >Mr. Brightside</td>\n",
       "      <td id=\"T_994f3_row0_col1\" class=\"data row0 col1\" >The Killers</td>\n",
       "      <td id=\"T_994f3_row0_col2\" class=\"data row0 col2\" >2003</td>\n",
       "      <td id=\"T_994f3_row0_col3\" class=\"data row0 col3\" >9</td>\n",
       "      <td id=\"T_994f3_row0_col4\" class=\"data row0 col4\" >51,979</td>\n",
       "      <td id=\"T_994f3_row0_col5\" class=\"data row0 col5\" >148</td>\n",
       "      <td id=\"T_994f3_row0_col6\" class=\"data row0 col6\" >C#</td>\n",
       "      <td id=\"T_994f3_row0_col7\" class=\"data row0 col7\" >Rock</td>\n",
       "    </tr>\n",
       "    <tr>\n",
       "      <th id=\"T_994f3_level0_row1\" class=\"row_heading level0 row1\" >606</th>\n",
       "      <td id=\"T_994f3_row1_col0\" class=\"data row1 col0\" >Wake Me Up - Radio Edit</td>\n",
       "      <td id=\"T_994f3_row1_col1\" class=\"data row1 col1\" >Avicii</td>\n",
       "      <td id=\"T_994f3_row1_col2\" class=\"data row1 col2\" >2013</td>\n",
       "      <td id=\"T_994f3_row1_col3\" class=\"data row1 col3\" >1</td>\n",
       "      <td id=\"T_994f3_row1_col4\" class=\"data row1 col4\" >50,887</td>\n",
       "      <td id=\"T_994f3_row1_col5\" class=\"data row1 col5\" >124</td>\n",
       "      <td id=\"T_994f3_row1_col6\" class=\"data row1 col6\" >D</td>\n",
       "      <td id=\"T_994f3_row1_col7\" class=\"data row1 col7\" >Electro</td>\n",
       "    </tr>\n",
       "    <tr>\n",
       "      <th id=\"T_994f3_level0_row2\" class=\"row_heading level0 row2\" >520</th>\n",
       "      <td id=\"T_994f3_row2_col0\" class=\"data row2 col0\" >Smells Like Teen Spirit - Remastered 2021</td>\n",
       "      <td id=\"T_994f3_row2_col1\" class=\"data row2 col1\" >Nirvana</td>\n",
       "      <td id=\"T_994f3_row2_col2\" class=\"data row2 col2\" >1991</td>\n",
       "      <td id=\"T_994f3_row2_col3\" class=\"data row2 col3\" >9</td>\n",
       "      <td id=\"T_994f3_row2_col4\" class=\"data row2 col4\" >49,991</td>\n",
       "      <td id=\"T_994f3_row2_col5\" class=\"data row2 col5\" >117</td>\n",
       "      <td id=\"T_994f3_row2_col6\" class=\"data row2 col6\" >C#</td>\n",
       "      <td id=\"T_994f3_row2_col7\" class=\"data row2 col7\" >Rock</td>\n",
       "    </tr>\n",
       "  </tbody>\n",
       "</table>\n"
      ],
      "text/plain": [
       "<pandas.io.formats.style.Styler at 0x2a2aad1c210>"
      ]
     },
     "execution_count": 22,
     "metadata": {},
     "output_type": "execute_result"
    }
   ],
   "source": [
    "# Top songs PRIOR '22 based on Spotify playlists\n",
    "\n",
    "# sort the \"in_spotify_playlists\" in DESCENDING order.\n",
    "top_prior_Spotify_playlists = music_prior_df.sort_values(by=\"In Spotify Playlists\", ascending=False) \n",
    "\n",
    "# Format the Column for better readability.\n",
    "top_prior_Spotify_playlists[\"In Spotify Playlists\"] = top_prior_Spotify_playlists\\\n",
    "                                                        [\"In Spotify Playlists\"].map(\"{:,}\".format)\n",
    "\n",
    "top_prior_Spotify_playlists[[\"Track Name\", \"Artist(s) Name\", \"Released Year\", \\\n",
    "                            \"Released Month\", \"In Spotify Playlists\", \"BPM\", \"Key\", \"Deezer Genre\"]].\\\n",
    "                            head(3).style.apply(highlighting, axis=0, subset=[\"In Spotify Playlists\"])"
   ]
  },
  {
   "cell_type": "markdown",
   "id": "f11d8f11",
   "metadata": {},
   "source": [
    "### `Top Songs Prior 2022 Apple`"
   ]
  },
  {
   "cell_type": "code",
   "execution_count": 23,
   "id": "a0a3f976",
   "metadata": {},
   "outputs": [
    {
     "data": {
      "text/html": [
       "<style type=\"text/css\">\n",
       "#T_882f6_row0_col4, #T_882f6_row1_col4, #T_882f6_row2_col4 {\n",
       "  background-color: lightblue;\n",
       "}\n",
       "</style>\n",
       "<table id=\"T_882f6\">\n",
       "  <thead>\n",
       "    <tr>\n",
       "      <th class=\"blank level0\" >&nbsp;</th>\n",
       "      <th id=\"T_882f6_level0_col0\" class=\"col_heading level0 col0\" >Track Name</th>\n",
       "      <th id=\"T_882f6_level0_col1\" class=\"col_heading level0 col1\" >Artist(s) Name</th>\n",
       "      <th id=\"T_882f6_level0_col2\" class=\"col_heading level0 col2\" >Released Year</th>\n",
       "      <th id=\"T_882f6_level0_col3\" class=\"col_heading level0 col3\" >Released Month</th>\n",
       "      <th id=\"T_882f6_level0_col4\" class=\"col_heading level0 col4\" >In Apple Playlists</th>\n",
       "      <th id=\"T_882f6_level0_col5\" class=\"col_heading level0 col5\" >BPM</th>\n",
       "      <th id=\"T_882f6_level0_col6\" class=\"col_heading level0 col6\" >Key</th>\n",
       "      <th id=\"T_882f6_level0_col7\" class=\"col_heading level0 col7\" >Deezer Genre</th>\n",
       "    </tr>\n",
       "  </thead>\n",
       "  <tbody>\n",
       "    <tr>\n",
       "      <th id=\"T_882f6_level0_row0\" class=\"row_heading level0 row0\" >352</th>\n",
       "      <td id=\"T_882f6_row0_col0\" class=\"data row0 col0\" >Don't Start Now</td>\n",
       "      <td id=\"T_882f6_row0_col1\" class=\"data row0 col1\" >Dua Lipa</td>\n",
       "      <td id=\"T_882f6_row0_col2\" class=\"data row0 col2\" >2019</td>\n",
       "      <td id=\"T_882f6_row0_col3\" class=\"data row0 col3\" >10</td>\n",
       "      <td id=\"T_882f6_row0_col4\" class=\"data row0 col4\" >532</td>\n",
       "      <td id=\"T_882f6_row0_col5\" class=\"data row0 col5\" >124</td>\n",
       "      <td id=\"T_882f6_row0_col6\" class=\"data row0 col6\" >B</td>\n",
       "      <td id=\"T_882f6_row0_col7\" class=\"data row0 col7\" >Pop</td>\n",
       "    </tr>\n",
       "    <tr>\n",
       "      <th id=\"T_882f6_level0_row1\" class=\"row_heading level0 row1\" >576</th>\n",
       "      <td id=\"T_882f6_row1_col0\" class=\"data row1 col0\" >Thinking Out Loud</td>\n",
       "      <td id=\"T_882f6_row1_col1\" class=\"data row1 col1\" >Ed Sheeran</td>\n",
       "      <td id=\"T_882f6_row1_col2\" class=\"data row1 col2\" >2014</td>\n",
       "      <td id=\"T_882f6_row1_col3\" class=\"data row1 col3\" >1</td>\n",
       "      <td id=\"T_882f6_row1_col4\" class=\"data row1 col4\" >363</td>\n",
       "      <td id=\"T_882f6_row1_col5\" class=\"data row1 col5\" >79</td>\n",
       "      <td id=\"T_882f6_row1_col6\" class=\"data row1 col6\" >D</td>\n",
       "      <td id=\"T_882f6_row1_col7\" class=\"data row1 col7\" >Pop</td>\n",
       "    </tr>\n",
       "    <tr>\n",
       "      <th id=\"T_882f6_level0_row2\" class=\"row_heading level0 row2\" >149</th>\n",
       "      <td id=\"T_882f6_row2_col0\" class=\"data row2 col0\" >Shake It Off</td>\n",
       "      <td id=\"T_882f6_row2_col1\" class=\"data row2 col1\" >Taylor Swift</td>\n",
       "      <td id=\"T_882f6_row2_col2\" class=\"data row2 col2\" >2014</td>\n",
       "      <td id=\"T_882f6_row2_col3\" class=\"data row2 col3\" >1</td>\n",
       "      <td id=\"T_882f6_row2_col4\" class=\"data row2 col4\" >328</td>\n",
       "      <td id=\"T_882f6_row2_col5\" class=\"data row2 col5\" >160</td>\n",
       "      <td id=\"T_882f6_row2_col6\" class=\"data row2 col6\" >G</td>\n",
       "      <td id=\"T_882f6_row2_col7\" class=\"data row2 col7\" >Singer & Songwriter</td>\n",
       "    </tr>\n",
       "  </tbody>\n",
       "</table>\n"
      ],
      "text/plain": [
       "<pandas.io.formats.style.Styler at 0x2a2aad1dd10>"
      ]
     },
     "execution_count": 23,
     "metadata": {},
     "output_type": "execute_result"
    }
   ],
   "source": [
    "# Top songs PRIOR '22 based on Apple playlists\n",
    "\n",
    "# sort the \"in_apple_playlists\" in DESCENDING order.\n",
    "top_prior_Apple_playlists = music_prior_df.sort_values(by=\"In Apple Playlists\", ascending=False) \n",
    "\n",
    "top_prior_Apple_playlists[[\"Track Name\", \"Artist(s) Name\", \"Released Year\", \\\n",
    "                           \"Released Month\", \"In Apple Playlists\", \"BPM\", \"Key\", \"Deezer Genre\"]].\\\n",
    "                           head(3).style.apply(highlighting, axis=0, subset=[\"In Apple Playlists\"])"
   ]
  },
  {
   "cell_type": "markdown",
   "id": "c0ebdadb",
   "metadata": {},
   "source": [
    "### `Top Songs Prior 2022 Deezer`"
   ]
  },
  {
   "cell_type": "code",
   "execution_count": 24,
   "id": "1753070d",
   "metadata": {},
   "outputs": [
    {
     "data": {
      "text/html": [
       "<style type=\"text/css\">\n",
       "#T_3f1c9_row0_col4, #T_3f1c9_row1_col4, #T_3f1c9_row2_col4 {\n",
       "  background-color: lightblue;\n",
       "}\n",
       "</style>\n",
       "<table id=\"T_3f1c9\">\n",
       "  <thead>\n",
       "    <tr>\n",
       "      <th class=\"blank level0\" >&nbsp;</th>\n",
       "      <th id=\"T_3f1c9_level0_col0\" class=\"col_heading level0 col0\" >Track Name</th>\n",
       "      <th id=\"T_3f1c9_level0_col1\" class=\"col_heading level0 col1\" >Artist(s) Name</th>\n",
       "      <th id=\"T_3f1c9_level0_col2\" class=\"col_heading level0 col2\" >Released Year</th>\n",
       "      <th id=\"T_3f1c9_level0_col3\" class=\"col_heading level0 col3\" >Released Month</th>\n",
       "      <th id=\"T_3f1c9_level0_col4\" class=\"col_heading level0 col4\" >In Deezer Playlists</th>\n",
       "      <th id=\"T_3f1c9_level0_col5\" class=\"col_heading level0 col5\" >BPM</th>\n",
       "      <th id=\"T_3f1c9_level0_col6\" class=\"col_heading level0 col6\" >Key</th>\n",
       "      <th id=\"T_3f1c9_level0_col7\" class=\"col_heading level0 col7\" >Deezer Genre</th>\n",
       "    </tr>\n",
       "  </thead>\n",
       "  <tbody>\n",
       "    <tr>\n",
       "      <th id=\"T_3f1c9_level0_row0\" class=\"row_heading level0 row0\" >520</th>\n",
       "      <td id=\"T_3f1c9_row0_col0\" class=\"data row0 col0\" >Smells Like Teen Spirit - Remastered 2021</td>\n",
       "      <td id=\"T_3f1c9_row0_col1\" class=\"data row0 col1\" >Nirvana</td>\n",
       "      <td id=\"T_3f1c9_row0_col2\" class=\"data row0 col2\" >1991</td>\n",
       "      <td id=\"T_3f1c9_row0_col3\" class=\"data row0 col3\" >9</td>\n",
       "      <td id=\"T_3f1c9_row0_col4\" class=\"data row0 col4\" >12,367</td>\n",
       "      <td id=\"T_3f1c9_row0_col5\" class=\"data row0 col5\" >117</td>\n",
       "      <td id=\"T_3f1c9_row0_col6\" class=\"data row0 col6\" >C#</td>\n",
       "      <td id=\"T_3f1c9_row0_col7\" class=\"data row0 col7\" >Rock</td>\n",
       "    </tr>\n",
       "    <tr>\n",
       "      <th id=\"T_3f1c9_level0_row1\" class=\"row_heading level0 row1\" >777</th>\n",
       "      <td id=\"T_3f1c9_row1_col0\" class=\"data row1 col0\" >The Scientist</td>\n",
       "      <td id=\"T_3f1c9_row1_col1\" class=\"data row1 col1\" >Coldplay</td>\n",
       "      <td id=\"T_3f1c9_row1_col2\" class=\"data row1 col2\" >2002</td>\n",
       "      <td id=\"T_3f1c9_row1_col3\" class=\"data row1 col3\" >8</td>\n",
       "      <td id=\"T_3f1c9_row1_col4\" class=\"data row1 col4\" >7,827</td>\n",
       "      <td id=\"T_3f1c9_row1_col5\" class=\"data row1 col5\" >146</td>\n",
       "      <td id=\"T_3f1c9_row1_col6\" class=\"data row1 col6\" >F</td>\n",
       "      <td id=\"T_3f1c9_row1_col7\" class=\"data row1 col7\" >Rock</td>\n",
       "    </tr>\n",
       "    <tr>\n",
       "      <th id=\"T_3f1c9_level0_row2\" class=\"row_heading level0 row2\" >288</th>\n",
       "      <td id=\"T_3f1c9_row2_col0\" class=\"data row2 col0\" >Numb</td>\n",
       "      <td id=\"T_3f1c9_row2_col1\" class=\"data row2 col1\" >Linkin Park</td>\n",
       "      <td id=\"T_3f1c9_row2_col2\" class=\"data row2 col2\" >2003</td>\n",
       "      <td id=\"T_3f1c9_row2_col3\" class=\"data row2 col3\" >3</td>\n",
       "      <td id=\"T_3f1c9_row2_col4\" class=\"data row2 col4\" >7,341</td>\n",
       "      <td id=\"T_3f1c9_row2_col5\" class=\"data row2 col5\" >110</td>\n",
       "      <td id=\"T_3f1c9_row2_col6\" class=\"data row2 col6\" >A</td>\n",
       "      <td id=\"T_3f1c9_row2_col7\" class=\"data row2 col7\" >Dance</td>\n",
       "    </tr>\n",
       "  </tbody>\n",
       "</table>\n"
      ],
      "text/plain": [
       "<pandas.io.formats.style.Styler at 0x2a2aad2a110>"
      ]
     },
     "execution_count": 24,
     "metadata": {},
     "output_type": "execute_result"
    }
   ],
   "source": [
    "# Top songs PRIOR '22 based on Deezer playlists\n",
    "\n",
    "# sort the \"in_deezer_playlists\" in DESCENDING order.\n",
    "top_prior_Deezer_playlists = music_prior_df.sort_values(by=\"In Deezer Playlists\", ascending=False) \n",
    "\n",
    "# Format the Column for better readability.\n",
    "top_prior_Deezer_playlists[\"In Deezer Playlists\"] = top_prior_Deezer_playlists\\\n",
    "                                                        [\"In Deezer Playlists\"].map(\"{:,}\".format)\n",
    "\n",
    "top_prior_Deezer_playlists[[\"Track Name\", \"Artist(s) Name\", \"Released Year\", \\\n",
    "                            \"Released Month\", \"In Deezer Playlists\", \"BPM\", \"Key\", \"Deezer Genre\"]].\\\n",
    "                            head(3).style.apply(highlighting, axis=0, subset=[\"In Deezer Playlists\"])"
   ]
  },
  {
   "cell_type": "markdown",
   "id": "539c1b77",
   "metadata": {},
   "source": [
    "<h1><center>---------- TOP 3 SONGS IN ALL YEARS ---------- </center></h1>"
   ]
  },
  {
   "cell_type": "code",
   "execution_count": 25,
   "id": "6e18f437",
   "metadata": {},
   "outputs": [],
   "source": [
    "# --------------------------------------------------------------------------------------------------------\n",
    "# Sort all values for the columns of interest in DESCENDING order\n",
    "# SPOTIFY ------------------------------------------------------------------------------------------------\n",
    "top_streams_df = cleaned_final_music_df.sort_values(by=\"Spotify Streams\", ascending=False) \n",
    "top_Spotify_playlists = cleaned_final_music_df.sort_values(by=\"In Spotify Playlists\", ascending=False) \n",
    "\n",
    "# APPLE ---------------------------------------------------------------------------------------------------\n",
    "top_Apple_playlists = cleaned_final_music_df.sort_values(by=\"In Apple Playlists\", ascending=False)\n",
    "\n",
    "# DEEZER --------------------------------------------------------------------------------------------------\n",
    "top_Deezer_playlists = cleaned_final_music_df.sort_values(by=\"In Deezer Playlists\", ascending=False) \n",
    "# --------------------------------------------------------------------------------------------------------"
   ]
  },
  {
   "cell_type": "markdown",
   "id": "a76a7bd1",
   "metadata": {},
   "source": [
    "## Group by Artist"
   ]
  },
  {
   "cell_type": "code",
   "execution_count": 26,
   "id": "337fa299",
   "metadata": {},
   "outputs": [
    {
     "name": "stdout",
     "output_type": "stream",
     "text": [
      "51\n"
     ]
    }
   ],
   "source": [
    "# # songs_23_df.groupby(\"Artist(s) Name\")\n",
    "# for artist in songs_23_df[\"Artist(s) Name\"]:\n",
    "#     if songs_23_df[\"Artist Count\"]\n",
    "artists_23 = songs_23_df[\"Artist(s) Name\"].value_counts()\n",
    "print(len(artists_23))\n",
    "# artists_23.head(9)   # 51 artists >= 2"
   ]
  },
  {
   "cell_type": "code",
   "execution_count": 27,
   "id": "c71aac9f",
   "metadata": {},
   "outputs": [
    {
     "name": "stdout",
     "output_type": "stream",
     "text": [
      "110\n"
     ]
    }
   ],
   "source": [
    "artists_22 = songs_22_df[\"Artist(s) Name\"].value_counts()\n",
    "print(len(artists_22))\n",
    "# artists_22.head(25)   # 110 artists >= 2"
   ]
  },
  {
   "cell_type": "code",
   "execution_count": 28,
   "id": "405a7a00",
   "metadata": {},
   "outputs": [
    {
     "name": "stdout",
     "output_type": "stream",
     "text": [
      "132\n"
     ]
    }
   ],
   "source": [
    "artists_prior = music_prior_df[\"Artist(s) Name\"].value_counts()\n",
    "print(len(artists_prior))\n",
    "# artists_prior.head(30)      # 132 artists >= 2"
   ]
  }
 ],
 "metadata": {
  "kernelspec": {
   "display_name": "Python 3 (ipykernel)",
   "language": "python",
   "name": "python3"
  },
  "language_info": {
   "codemirror_mode": {
    "name": "ipython",
    "version": 3
   },
   "file_extension": ".py",
   "mimetype": "text/x-python",
   "name": "python",
   "nbconvert_exporter": "python",
   "pygments_lexer": "ipython3",
   "version": "3.11.4"
  }
 },
 "nbformat": 4,
 "nbformat_minor": 5
}
